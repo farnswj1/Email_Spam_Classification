{
 "cells": [
  {
   "cell_type": "markdown",
   "metadata": {},
   "source": [
    "# Email Spam Classification"
   ]
  },
  {
   "cell_type": "code",
   "execution_count": 1,
   "metadata": {},
   "outputs": [],
   "source": [
    "# Required modules\n",
    "import string\n",
    "import numpy as np\n",
    "import pandas as pd\n",
    "import matplotlib.pyplot as plt\n",
    "from sklearn.feature_extraction.text import CountVectorizer\n",
    "from sklearn.model_selection import train_test_split\n",
    "from sklearn.linear_model import LogisticRegression\n",
    "from sklearn.naive_bayes import MultinomialNB\n",
    "from sklearn.metrics import accuracy_score, precision_score, recall_score, f1_score, confusion_matrix\n",
    "from nltk.corpus import stopwords\n",
    "from collections import Counter\n",
    "from itertools import chain"
   ]
  },
  {
   "cell_type": "markdown",
   "metadata": {},
   "source": [
    "## Exploring the Dataset"
   ]
  },
  {
   "cell_type": "code",
   "execution_count": 2,
   "metadata": {},
   "outputs": [
    {
     "data": {
      "text/html": [
       "<div>\n",
       "<style scoped>\n",
       "    .dataframe tbody tr th:only-of-type {\n",
       "        vertical-align: middle;\n",
       "    }\n",
       "\n",
       "    .dataframe tbody tr th {\n",
       "        vertical-align: top;\n",
       "    }\n",
       "\n",
       "    .dataframe thead th {\n",
       "        text-align: right;\n",
       "    }\n",
       "</style>\n",
       "<table border=\"1\" class=\"dataframe\">\n",
       "  <thead>\n",
       "    <tr style=\"text-align: right;\">\n",
       "      <th></th>\n",
       "      <th>Text</th>\n",
       "      <th>Class</th>\n",
       "    </tr>\n",
       "  </thead>\n",
       "  <tbody>\n",
       "    <tr>\n",
       "      <th>0</th>\n",
       "      <td>Supply Quality China's EXCLUSIVE dimensions at...</td>\n",
       "      <td>1</td>\n",
       "    </tr>\n",
       "    <tr>\n",
       "      <th>1</th>\n",
       "      <td>over. SidLet me know. Thx.</td>\n",
       "      <td>0</td>\n",
       "    </tr>\n",
       "    <tr>\n",
       "      <th>2</th>\n",
       "      <td>Dear Friend,Greetings to you.I wish to accost ...</td>\n",
       "      <td>1</td>\n",
       "    </tr>\n",
       "    <tr>\n",
       "      <th>3</th>\n",
       "      <td>MR. CHEUNG PUIHANG SENG BANK LTD.DES VOEUX RD....</td>\n",
       "      <td>1</td>\n",
       "    </tr>\n",
       "    <tr>\n",
       "      <th>4</th>\n",
       "      <td>Not a surprising assessment from Embassy.</td>\n",
       "      <td>0</td>\n",
       "    </tr>\n",
       "  </tbody>\n",
       "</table>\n",
       "</div>"
      ],
      "text/plain": [
       "                                                Text  Class\n",
       "0  Supply Quality China's EXCLUSIVE dimensions at...      1\n",
       "1                         over. SidLet me know. Thx.      0\n",
       "2  Dear Friend,Greetings to you.I wish to accost ...      1\n",
       "3  MR. CHEUNG PUIHANG SENG BANK LTD.DES VOEUX RD....      1\n",
       "4          Not a surprising assessment from Embassy.      0"
      ]
     },
     "execution_count": 2,
     "metadata": {},
     "output_type": "execute_result"
    }
   ],
   "source": [
    "# Load the dataset\n",
    "# Source: https://www.kaggle.com/llabhishekll/fraud-email-dataset\n",
    "df = pd.read_csv(\"email_spam.zip\", compression=\"zip\")\n",
    "df.head()"
   ]
  },
  {
   "cell_type": "code",
   "execution_count": 3,
   "metadata": {
    "scrolled": true
   },
   "outputs": [
    {
     "data": {
      "text/plain": [
       "Text     1\n",
       "Class    0\n",
       "dtype: int64"
      ]
     },
     "execution_count": 3,
     "metadata": {},
     "output_type": "execute_result"
    }
   ],
   "source": [
    "# Check for null values\n",
    "df.isnull().sum()"
   ]
  },
  {
   "cell_type": "code",
   "execution_count": 4,
   "metadata": {},
   "outputs": [
    {
     "data": {
      "text/plain": [
       "Text     0\n",
       "Class    0\n",
       "dtype: int64"
      ]
     },
     "execution_count": 4,
     "metadata": {},
     "output_type": "execute_result"
    }
   ],
   "source": [
    "# Remove the rows with null values\n",
    "df.dropna(how=\"any\", inplace=True)\n",
    "df.isnull().sum()"
   ]
  },
  {
   "cell_type": "code",
   "execution_count": 5,
   "metadata": {},
   "outputs": [
    {
     "data": {
      "text/html": [
       "<div>\n",
       "<style scoped>\n",
       "    .dataframe tbody tr th:only-of-type {\n",
       "        vertical-align: middle;\n",
       "    }\n",
       "\n",
       "    .dataframe tbody tr th {\n",
       "        vertical-align: top;\n",
       "    }\n",
       "\n",
       "    .dataframe thead tr th {\n",
       "        text-align: left;\n",
       "    }\n",
       "\n",
       "    .dataframe thead tr:last-of-type th {\n",
       "        text-align: right;\n",
       "    }\n",
       "</style>\n",
       "<table border=\"1\" class=\"dataframe\">\n",
       "  <thead>\n",
       "    <tr>\n",
       "      <th></th>\n",
       "      <th colspan=\"4\" halign=\"left\">Text</th>\n",
       "    </tr>\n",
       "    <tr>\n",
       "      <th></th>\n",
       "      <th>count</th>\n",
       "      <th>unique</th>\n",
       "      <th>top</th>\n",
       "      <th>freq</th>\n",
       "    </tr>\n",
       "    <tr>\n",
       "      <th>Class</th>\n",
       "      <th></th>\n",
       "      <th></th>\n",
       "      <th></th>\n",
       "      <th></th>\n",
       "    </tr>\n",
       "  </thead>\n",
       "  <tbody>\n",
       "    <tr>\n",
       "      <th>0</th>\n",
       "      <td>6742</td>\n",
       "      <td>5915</td>\n",
       "      <td>Fyi</td>\n",
       "      <td>175</td>\n",
       "    </tr>\n",
       "    <tr>\n",
       "      <th>1</th>\n",
       "      <td>5186</td>\n",
       "      <td>4334</td>\n",
       "      <td>&lt;html&gt;&lt;head&gt;&lt;style&gt;P{margin:0px;padding:0px}body</td>\n",
       "      <td>49</td>\n",
       "    </tr>\n",
       "  </tbody>\n",
       "</table>\n",
       "</div>"
      ],
      "text/plain": [
       "       Text                                                              \n",
       "      count unique                                               top freq\n",
       "Class                                                                    \n",
       "0      6742   5915                                               Fyi  175\n",
       "1      5186   4334  <html><head><style>P{margin:0px;padding:0px}body   49"
      ]
     },
     "execution_count": 5,
     "metadata": {},
     "output_type": "execute_result"
    }
   ],
   "source": [
    "# Get basic information about each class\n",
    "df.groupby(\"Class\").describe()"
   ]
  },
  {
   "cell_type": "code",
   "execution_count": 6,
   "metadata": {},
   "outputs": [],
   "source": [
    "# Get a list of stopwords\n",
    "list_of_stopwords = stopwords.words(\"english\")\n",
    "\n",
    "# Remove punctuations and stopwords from the messsage\n",
    "def text_process(text):\n",
    "    # Remove any punctuations\n",
    "    no_punc = ''.join(char for char in text if char not in string.punctuation).lower()\n",
    "    \n",
    "    # Remove any stopwords\n",
    "    return [word for word in no_punc.split() if word not in list_of_stopwords]"
   ]
  },
  {
   "cell_type": "code",
   "execution_count": 7,
   "metadata": {},
   "outputs": [
    {
     "data": {
      "text/plain": [
       "[('money', 10922),\n",
       " ('bank', 8450),\n",
       " ('account', 8011),\n",
       " ('us', 6624),\n",
       " ('business', 4911),\n",
       " ('fund', 4592),\n",
       " ('next', 4549),\n",
       " ('country', 4371),\n",
       " ('transaction', 4290),\n",
       " ('foreign', 4016),\n",
       " ('transfer', 3965),\n",
       " ('one', 3844),\n",
       " ('want', 3828),\n",
       " ('million', 3814),\n",
       " ('also', 3789),\n",
       " ('contact', 3785),\n",
       " ('kin', 3641),\n",
       " ('would', 3544),\n",
       " ('company', 3399),\n",
       " ('security', 3327),\n",
       " ('funds', 3233),\n",
       " ('sum', 3221),\n",
       " ('know', 3209),\n",
       " ('email', 3162),\n",
       " ('late', 2974),\n",
       " ('name', 2906),\n",
       " ('please', 2837),\n",
       " ('dollars', 2811),\n",
       " ('family', 2804),\n",
       " ('government', 2773),\n",
       " ('mr', 2771),\n",
       " ('since', 2625),\n",
       " ('united', 2608),\n",
       " ('assistance', 2572),\n",
       " ('private', 2535),\n",
       " ('get', 2449),\n",
       " ('information', 2413),\n",
       " ('claim', 2374),\n",
       " ('died', 2357),\n",
       " ('come', 2273),\n",
       " ('may', 2248),\n",
       " ('need', 2247),\n",
       " ('made', 2225),\n",
       " ('father', 2162),\n",
       " ('help', 2144),\n",
       " ('time', 2051),\n",
       " ('years', 2035),\n",
       " ('shall', 2035),\n",
       " ('decided', 2004),\n",
       " ('make', 2003)]"
      ]
     },
     "execution_count": 7,
     "metadata": {},
     "output_type": "execute_result"
    }
   ],
   "source": [
    "# Get the most common words in the dataset\n",
    "Counter(chain(*df[\"Text\"].apply(text_process))).most_common(50)"
   ]
  },
  {
   "cell_type": "markdown",
   "metadata": {},
   "source": [
    "## Text Vectorization"
   ]
  },
  {
   "cell_type": "code",
   "execution_count": 8,
   "metadata": {},
   "outputs": [],
   "source": [
    "# Vectorize the data\n",
    "cv = CountVectorizer(analyzer=text_process, max_df=0.8)\n",
    "X = cv.fit_transform(df[\"Text\"])"
   ]
  },
  {
   "cell_type": "code",
   "execution_count": 9,
   "metadata": {},
   "outputs": [],
   "source": [
    "# Identify the target column\n",
    "Y = df[\"Class\"]"
   ]
  },
  {
   "cell_type": "code",
   "execution_count": 10,
   "metadata": {},
   "outputs": [],
   "source": [
    "# Split the data into a train set and test set\n",
    "X_train, X_test, Y_train, Y_test = train_test_split(X, Y, test_size=0.2, random_state=0)"
   ]
  },
  {
   "cell_type": "markdown",
   "metadata": {},
   "source": [
    "## Logistic Regression"
   ]
  },
  {
   "cell_type": "code",
   "execution_count": 11,
   "metadata": {},
   "outputs": [
    {
     "data": {
      "text/plain": [
       "{'Accuracy': 0.9761106454316848,\n",
       " 'Precision': 1.0,\n",
       " 'Recall': 0.9448742746615088,\n",
       " 'F-1': 0.9716558925907509}"
      ]
     },
     "execution_count": 11,
     "metadata": {},
     "output_type": "execute_result"
    }
   ],
   "source": [
    "# Use Logistic Regression to make the predictions\n",
    "lr = LogisticRegression()\n",
    "lr.fit(X_train, Y_train)\n",
    "Y_hat_lr = lr.predict(X_test)\n",
    "\n",
    "# Compute the accuracy, precision, recall, and F-1 score\n",
    "results_lr = {\n",
    "    \"Accuracy\": accuracy_score(Y_test, Y_hat_lr),\n",
    "    \"Precision\": precision_score(Y_test, Y_hat_lr),\n",
    "    \"Recall\": recall_score(Y_test, Y_hat_lr),\n",
    "    \"F-1\": f1_score(Y_test, Y_hat_lr)\n",
    "}\n",
    "results_lr"
   ]
  },
  {
   "cell_type": "code",
   "execution_count": 12,
   "metadata": {
    "scrolled": true
   },
   "outputs": [
    {
     "data": {
      "text/plain": [
       "array([[1352,    0],\n",
       "       [  57,  977]], dtype=int64)"
      ]
     },
     "execution_count": 12,
     "metadata": {},
     "output_type": "execute_result"
    }
   ],
   "source": [
    "# Generate the confusion matrix\n",
    "confusion_matrix(Y_test, Y_hat_lr)"
   ]
  },
  {
   "cell_type": "markdown",
   "metadata": {},
   "source": [
    "## Multinomial Naive-Bayes"
   ]
  },
  {
   "cell_type": "code",
   "execution_count": 13,
   "metadata": {},
   "outputs": [
    {
     "data": {
      "text/plain": [
       "{'Accuracy': 0.9652137468566638,\n",
       " 'Precision': 0.9603097773475314,\n",
       " 'Recall': 0.9593810444874274,\n",
       " 'F-1': 0.9598451862602805}"
      ]
     },
     "execution_count": 13,
     "metadata": {},
     "output_type": "execute_result"
    }
   ],
   "source": [
    "# Use Multinomial Naive-Bayes to make the predictions\n",
    "nb = MultinomialNB()\n",
    "nb.fit(X_train, Y_train)\n",
    "Y_hat_nb = nb.predict(X_test)\n",
    "\n",
    "# Compute the accuracy, precision, recall, and F-1 score\n",
    "results_nb = {\n",
    "    \"Accuracy\": accuracy_score(Y_test, Y_hat_nb),\n",
    "    \"Precision\": precision_score(Y_test, Y_hat_nb),\n",
    "    \"Recall\": recall_score(Y_test, Y_hat_nb),\n",
    "    \"F-1\": f1_score(Y_test, Y_hat_nb)\n",
    "}\n",
    "results_nb"
   ]
  },
  {
   "cell_type": "code",
   "execution_count": 14,
   "metadata": {},
   "outputs": [
    {
     "data": {
      "text/plain": [
       "array([[1311,   41],\n",
       "       [  42,  992]], dtype=int64)"
      ]
     },
     "execution_count": 14,
     "metadata": {},
     "output_type": "execute_result"
    }
   ],
   "source": [
    "# Generate the confusion matrix\n",
    "confusion_matrix(Y_test, Y_hat_nb)"
   ]
  },
  {
   "cell_type": "markdown",
   "metadata": {},
   "source": [
    "## Comparing the Models"
   ]
  },
  {
   "cell_type": "code",
   "execution_count": 15,
   "metadata": {},
   "outputs": [
    {
     "data": {
      "text/html": [
       "<div>\n",
       "<style scoped>\n",
       "    .dataframe tbody tr th:only-of-type {\n",
       "        vertical-align: middle;\n",
       "    }\n",
       "\n",
       "    .dataframe tbody tr th {\n",
       "        vertical-align: top;\n",
       "    }\n",
       "\n",
       "    .dataframe thead th {\n",
       "        text-align: right;\n",
       "    }\n",
       "</style>\n",
       "<table border=\"1\" class=\"dataframe\">\n",
       "  <thead>\n",
       "    <tr style=\"text-align: right;\">\n",
       "      <th></th>\n",
       "      <th>Accuracy</th>\n",
       "      <th>Precision</th>\n",
       "      <th>Recall</th>\n",
       "      <th>F-1</th>\n",
       "    </tr>\n",
       "  </thead>\n",
       "  <tbody>\n",
       "    <tr>\n",
       "      <th>Logistic Regression</th>\n",
       "      <td>0.976111</td>\n",
       "      <td>1.00000</td>\n",
       "      <td>0.944874</td>\n",
       "      <td>0.971656</td>\n",
       "    </tr>\n",
       "    <tr>\n",
       "      <th>Multinomial Naive-Bayes</th>\n",
       "      <td>0.965214</td>\n",
       "      <td>0.96031</td>\n",
       "      <td>0.959381</td>\n",
       "      <td>0.959845</td>\n",
       "    </tr>\n",
       "  </tbody>\n",
       "</table>\n",
       "</div>"
      ],
      "text/plain": [
       "                         Accuracy  Precision    Recall       F-1\n",
       "Logistic Regression      0.976111    1.00000  0.944874  0.971656\n",
       "Multinomial Naive-Bayes  0.965214    0.96031  0.959381  0.959845"
      ]
     },
     "execution_count": 15,
     "metadata": {},
     "output_type": "execute_result"
    }
   ],
   "source": [
    "# Combine the results from the models into a dataframe\n",
    "results = pd.DataFrame([results_lr, results_nb], index=[\"Logistic Regression\", \"Multinomial Naive-Bayes\"])\n",
    "results"
   ]
  },
  {
   "cell_type": "code",
   "execution_count": 16,
   "metadata": {},
   "outputs": [
    {
     "data": {
      "image/png": "[encoded data removed]",
      "text/plain": [
       "<Figure size 720x720 with 1 Axes>"
      ]
     },
     "metadata": {
      "needs_background": "light"
     },
     "output_type": "display_data"
    }
   ],
   "source": [
    "# Visualize the results\n",
    "results.T.plot(\n",
    "    kind=\"bar\",\n",
    "    title=\"Email Spam Classification Results\",\n",
    "    xlabel=\"Metric\",\n",
    "    ylabel=\"Percentage\",\n",
    "    ylim=(0.9, 1.00),\n",
    "    grid=True,\n",
    "    figsize=(10, 10)\n",
    ")\n",
    "plt.show()"
   ]
  }
 ],
 "metadata": {
  "kernelspec": {
   "display_name": "Python 3",
   "language": "python",
   "name": "python3"
  },
  "language_info": {
   "codemirror_mode": {
    "name": "ipython",
    "version": 3
   },
   "file_extension": ".py",
   "mimetype": "text/x-python",
   "name": "python",
   "nbconvert_exporter": "python",
   "pygments_lexer": "ipython3",
   "version": "3.8.5"
  }
 },
 "nbformat": 4,
 "nbformat_minor": 4
}
